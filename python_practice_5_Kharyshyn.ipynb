{
  "nbformat": 4,
  "nbformat_minor": 0,
  "metadata": {
    "colab": {
      "provenance": []
    },
    "kernelspec": {
      "name": "python3",
      "display_name": "Python 3"
    },
    "language_info": {
      "name": "python"
    }
  },
  "cells": [
    {
      "cell_type": "markdown",
      "source": [
        "# I. OOP"
      ],
      "metadata": {
        "id": "5qV_sehzFCTp"
      }
    },
    {
      "cell_type": "markdown",
      "source": [
        "1. (6б). Створіть клас Animal, додайте три атрибути, один з яких має значення за замовчуванням та два методи на свій розсуд."
      ],
      "metadata": {
        "id": "tx_U_hOALyfg"
      }
    },
    {
      "cell_type": "code",
      "source": [
        "class Animal:\n",
        "  def __init__(self, coloring_list, num_of_limbs, is_herbivorous = True):\n",
        "    self.is_herbivorous = is_herbivorous\n",
        "    self.coloring_list = coloring_list\n",
        "    self.num_of_limbs = num_of_limbs\n",
        "\n",
        "  def set_num_of_limbs(num_libs):\n",
        "    if num_libs:\n",
        "        return num_libs\n",
        "    else:\n",
        "        return 4\n",
        "\n",
        "  def fill_colors(self, list_of_colors):\n",
        "    if list_of_colors:\n",
        "      self.coloring_list = list_of_colors\n",
        "    return self.coloring_list\n"
      ],
      "metadata": {
        "id": "-Vf895KaL88N"
      },
      "execution_count": 24,
      "outputs": []
    },
    {
      "cell_type": "markdown",
      "source": [
        "2. (2б). Створіть два обʼєкти цього класу, де один з обʼєктів створюється із дефолтним значенням атрибуту. На одному обʼєкті отримайте значення його атрибуту, а на іншому викличте один з його методів."
      ],
      "metadata": {
        "id": "X_UlOMB0L93w"
      }
    },
    {
      "cell_type": "code",
      "source": [
        "animal1 = Animal(coloring_list=[\"brown\", \"black\"], num_of_limbs=4, is_herbivorous=True)\n",
        "animal2 = Animal(coloring_list=[\"white\", \"orange\"], num_of_limbs=Animal.set_num_of_limbs(2), is_herbivorous=False)\n",
        "\n",
        "print(\"Animal 1:\")\n",
        "print(\"Coloring List:\", animal1.coloring_list)\n",
        "print(\"Number of Limbs:\", animal1.num_of_limbs)\n",
        "print(\"Is Herbivorous:\", animal1.is_herbivorous)\n",
        "\n",
        "print(\"\\nAnimal 2:\")\n",
        "print(\"Coloring List BEFORE method:\", animal1.coloring_list)\n",
        "print(\"New Coloring List:\", animal2.fill_colors([\"green\", \"yellow\"]))\n",
        "print(\"New Coloring List:\", animal2.coloring_list)"
      ],
      "metadata": {
        "id": "7gBu0ESOMCpG",
        "colab": {
          "base_uri": "https://localhost:8080/"
        },
        "outputId": "20ad9e09-073e-4596-c63b-f3337c2d7aa4"
      },
      "execution_count": 29,
      "outputs": [
        {
          "output_type": "stream",
          "name": "stdout",
          "text": [
            "Animal 1:\n",
            "Coloring List: ['brown', 'black']\n",
            "Number of Limbs: 4\n",
            "Is Herbivorous: True\n",
            "\n",
            "Animal 2:\n",
            "Coloring List BEFORE method: ['brown', 'black']\n",
            "New Coloring List: ['green', 'yellow']\n",
            "New Coloring List: ['green', 'yellow']\n"
          ]
        }
      ]
    },
    {
      "cell_type": "markdown",
      "source": [
        "3. (5б). Створіть клас, де атрибути мають різні рівні доступу. Спробуйте отримати їхні значення та опишіть результати."
      ],
      "metadata": {
        "id": "HoqSCZt1MHn5"
      }
    },
    {
      "cell_type": "code",
      "source": [
        "class MyClass:\n",
        "    def __init__(self):\n",
        "        self.public_attribute = \"Public\"\n",
        "\n",
        "        self._protected_attribute = \"Protected\"\n",
        "\n",
        "        self.__private_attribute = \"Private\"\n",
        "\n",
        "\n",
        "my_object = MyClass()\n",
        "\n",
        "\n",
        "print(\"Public attribute:\", my_object.public_attribute)\n",
        "print(\"Protected attribute:\", my_object._protected_attribute)\n",
        "print(\"Private attribute:\", my_object.__private_attribute)\n"
      ],
      "metadata": {
        "id": "r9b3vJxBMSPV"
      },
      "execution_count": null,
      "outputs": []
    },
    {
      "cell_type": "markdown",
      "source": [
        "public_attribute - це публічний атрибут, protected_attribute - захищений атрибут, і private_attribute - приватний атрибут. Спроба отримати приватний атрибут напряму за допомогою my_object.__private_attribute викличе помилку, оскільки атрибут 'закритий' від доступу ззовні, поза класом"
      ],
      "metadata": {
        "id": "9YRsbpb9RT3g"
      }
    },
    {
      "cell_type": "markdown",
      "source": [
        "4. (7б). Як ви розумієте термін self? Для чого використовується метод __init __?"
      ],
      "metadata": {
        "id": "5op2m2vgMSkZ"
      }
    },
    {
      "cell_type": "markdown",
      "source": [
        "Термін self вказує на екземпляр класу, з яким працюємо в даний момент. У методах класу, які визначаються за допомогою ключового слова def, перший параметр завжди є екземпляром класу і називається self. self дозволяє визначити та отримувати доступ до атрибутів та методів об'єкта класу всередині класу.\n",
        "\n",
        " __init__ є конструктором класу. Його завданням є ініціалізація об'єкта певними початковими значеннями. Цей метод викликається автоматично при створенні нового екземпляра класу, він дозволяє встановити початкові значення для атрибутів об'єкта."
      ],
      "metadata": {
        "id": "DyiPqNRvMasx"
      }
    },
    {
      "cell_type": "markdown",
      "source": [
        "5. (9б). Створіть клас Фігура без атрибутів, з методом get_area для отримання площі фігури, що повертає 0 та __add __, який приймає self та other в якості аргументів, а повертає суму площин фігур self та other."
      ],
      "metadata": {
        "id": "-6X8EGfjMd2y"
      }
    },
    {
      "cell_type": "code",
      "source": [
        "class Figure:\n",
        "  def __init__(self):\n",
        "    pass\n",
        "\n",
        "  def get_area(self):\n",
        "    return 0;\n",
        "\n",
        "  def __add__(self, other):\n",
        "    if isinstance(other, Figure):\n",
        "      return self.get_area() + other.get_area()\n",
        "    else:\n",
        "      raise TypeError(\"Unsupported operand type. 'Figure' expected.\")"
      ],
      "metadata": {
        "id": "4rvO_wYUMaEr"
      },
      "execution_count": 38,
      "outputs": []
    },
    {
      "cell_type": "markdown",
      "source": [
        "6. (11б). Створіть 2 дочірніх класи від Фігури: Трикутник та Коло, які мають атрибути, необхідні для розрахунку площин. Визначте метод get_area в кожному з них так, щоби вони розраховували площу в залежності від формули для кожного типу фігури. Створіть обʼєкт класу Трикутник та обʼєкт класу Коло. Виконайте операцію суми за допомогою оператора + між ними."
      ],
      "metadata": {
        "id": "SFcKnnv5Mo_z"
      }
    },
    {
      "cell_type": "code",
      "source": [
        "import math\n",
        "\n",
        "class Triangle(Figure):\n",
        "  def __init__(self, segment_ab = 1, segment_bc = 1, segment_ac = 1):\n",
        "    super().__init__()\n",
        "    self.segment_ab = segment_ab\n",
        "    self.segment_bc = segment_bc\n",
        "    self.segment_ac = segment_ac\n",
        "\n",
        "  def get_area(self):\n",
        "    half_per = (self.segment_ab + self.segment_bc + self.segment_ac)/2\n",
        "    return math.sqrt(half_per*(half_per - self.segment_ab)*(half_per - self.segment_bc)*(half_per - self.segment_ac));\n",
        "\n",
        "class Circle(Figure):\n",
        "  def __init__(self, rad = 1):\n",
        "    super().__init__()\n",
        "    self.rad = rad\n",
        "\n",
        "  def get_area(self):\n",
        "    return math.pi * self.rad**2;\n",
        "\n",
        "triangle = Triangle(3, 4, 5)\n",
        "circle = Circle(4)\n",
        "\n",
        "area_triangle = triangle.get_area()\n",
        "area_circle = circle.get_area()\n",
        "\n",
        "sum_areas = triangle + circle\n",
        "\n",
        "print(f\"Triangle Area: {area_triangle}\")\n",
        "print(f\"Circle Area: {area_circle}\")\n",
        "print(f\"Sum of Areas: {sum_areas}\")\n"
      ],
      "metadata": {
        "id": "H3GVNr69Muf3",
        "colab": {
          "base_uri": "https://localhost:8080/"
        },
        "outputId": "d2e38ba2-1326-41c2-c175-8f98411fd985"
      },
      "execution_count": 42,
      "outputs": [
        {
          "output_type": "stream",
          "name": "stdout",
          "text": [
            "Triangle Area: 6.0\n",
            "Circle Area: 50.26548245743669\n",
            "Sum of Areas: 56.26548245743669\n"
          ]
        }
      ]
    },
    {
      "cell_type": "markdown",
      "source": [
        "7. (3б). Продемонструйте різницю між isinstance та issubclass."
      ],
      "metadata": {
        "id": "HCvR206YMvLK"
      }
    },
    {
      "cell_type": "code",
      "source": [
        "obj_triangle = Triangle(3, 3, 5)\n",
        "obj_figure = Figure()\n",
        "obj_circle = Circle(5)\n",
        "print(f\"Is obj_triangle an instance of the Triangle class: {isinstance(obj_triangle, Triangle)}\")\n",
        "print(f\"Is obj_triangle an instance of the Figure class: {isinstance(obj_triangle, Figure)}\")\n",
        "print(f\"Is obj_figure an instance of the Triangle class: {isinstance(obj_figure, Triangle)}\")\n",
        "print(f\"Is obj_figure an instance of the Figure class: {isinstance(obj_figure, Figure)}\")\n",
        "print(f\"Is obj_circle an instance of the Triangle class: {isinstance(obj_circle, Triangle)}\")\n",
        "print(f\"Is obj_circle an instance of the Figure class: {isinstance(obj_circle, Figure)}\")\n",
        "\n",
        "print(f\"\\nIs Triangle a subclass of Figure: {issubclass(Triangle, Figure)}\")\n",
        "print(f\"Is Circle a subclass of Figure: {issubclass(Circle, Figure)}\")\n",
        "print(f\"Is Triangle a subclass of Circle: {issubclass(Triangle, Circle)}\")"
      ],
      "metadata": {
        "id": "L_V1bBvDM0GN",
        "colab": {
          "base_uri": "https://localhost:8080/"
        },
        "outputId": "e5f74bb8-30c4-4a0e-fb31-43625d163c1c"
      },
      "execution_count": 47,
      "outputs": [
        {
          "output_type": "stream",
          "name": "stdout",
          "text": [
            "Is obj_triangle an instance of the Triangle class: True\n",
            "Is obj_triangle an instance of the Figure class: True\n",
            "Is obj_figure an instance of the Triangle class: False\n",
            "Is obj_figure an instance of the Figure class: True\n",
            "Is obj_circle an instance of the Triangle class: False\n",
            "Is obj_circle an instance of the Figure class: True\n",
            "\n",
            "Is Triangle a subclass of Figure: True\n",
            "Is Circle a subclass of Figure: True\n",
            "Is Triangle a subclass of Circle: False\n"
          ]
        }
      ]
    },
    {
      "cell_type": "markdown",
      "source": [
        "8. (13б). Створіть клас BankAccount з приватними атрибутами balance та account_number. Реалізуйте методи поповнення та зняття коштів, забезпечивши належну інкапсуляцію. Підказка: використовуйте декоратори property та setter."
      ],
      "metadata": {
        "id": "jjsaBZ-iM0Qq"
      }
    },
    {
      "cell_type": "code",
      "source": [
        "class BankAccount:\n",
        "    def __init__(self, account_number, balance = 0):\n",
        "        self.__account_number = account_number\n",
        "        self.__balance = balance\n",
        "\n",
        "    @property\n",
        "    def account_number(self):\n",
        "        return self.__account_number\n",
        "\n",
        "    @property\n",
        "    def balance(self):\n",
        "        return self.__balance\n",
        "\n",
        "    @account_number.setter\n",
        "    def account_number(self, value):\n",
        "      if (isinstance(value, int) and value >= 0):\n",
        "        self.__account_number = value\n",
        "        return True\n",
        "      return False\n",
        "\n",
        "    @balance.setter\n",
        "    def balance(self, new_balance):\n",
        "        if (isinstance(new_balance, int) and (new_balance > 0)):\n",
        "            self.__balance = new_balance\n",
        "            return True\n",
        "        return False\n",
        "\n",
        "    def deposit(self, amount):\n",
        "        if not isinstance(amount, int):\n",
        "            print(\"Amount must be an integer\")\n",
        "            return False\n",
        "\n",
        "        if amount <= 0:\n",
        "            print(\"Deposit must be > 0\")\n",
        "            return False\n",
        "\n",
        "        self.balance += amount\n",
        "\n",
        "        return True\n",
        "\n",
        "    def withdraw(self, amount):\n",
        "        if not isinstance(amount, int):\n",
        "            print(\"Amount must be an integer\")\n",
        "            return False\n",
        "\n",
        "        if amount < 0:\n",
        "            print(\"Withdrawal must be > 0\")\n",
        "            return False\n",
        "\n",
        "        if amount > self.balance:\n",
        "            print(\"You can't withdraw more than you have\")\n",
        "            return False\n",
        "\n",
        "        self.balance -= amount\n",
        "\n",
        "        return True\n",
        "\n",
        "account = BankAccount(\"12345\", 1000)\n",
        "\n",
        "print(f\"Account Number: {account.account_number}\")\n",
        "print(f\"Initial Balance: {account.balance}\")\n",
        "\n",
        "account.deposit(500)\n",
        "print(f\"Balance after deposit: {account.balance}\")\n",
        "\n",
        "account.withdraw(200)\n",
        "print(f\"Balance after withdrawal: {account.balance}\")\n"
      ],
      "metadata": {
        "id": "xCvZ7lh8M7YA",
        "colab": {
          "base_uri": "https://localhost:8080/"
        },
        "outputId": "6b97d5ce-82e7-4021-e86c-8b24572ef11b"
      },
      "execution_count": 53,
      "outputs": [
        {
          "output_type": "stream",
          "name": "stdout",
          "text": [
            "Account Number: 12345\n",
            "Initial Balance: 1000\n",
            "Balance after deposit: 1500\n",
            "Balance after withdrawal: 1300\n"
          ]
        }
      ]
    },
    {
      "cell_type": "markdown",
      "source": [
        "9. (11б). Створіть клас Library, який містить список об'єктів типу Book. Реалізуйте методи для додавання книги, видалення книги та відображення списку книг."
      ],
      "metadata": {
        "id": "tIzL2SJTM8ft"
      }
    },
    {
      "cell_type": "code",
      "source": [
        "class Book:\n",
        "    def __init__(self, title, author):\n",
        "        self.title = title\n",
        "        self.author = author\n",
        "\n",
        "class Library:\n",
        "    def __init__(self):\n",
        "        self.books = []\n",
        "\n",
        "    def add_book(self, book):\n",
        "        if isinstance(book, Book):\n",
        "            self.books.append(book)\n",
        "            print(f\"Book '{book.title}' by {book.author} added to the library\")\n",
        "        else:\n",
        "            print(\"Invalid object\")\n",
        "\n",
        "    def remove_book(self, book_title):\n",
        "        for book in self.books:\n",
        "            if book.title == book_title:\n",
        "                self.books.remove(book)\n",
        "                print(f\"Book '{book_title}' removed from the library\")\n",
        "                return\n",
        "        print(f\"Book '{book_title}' not found in the library.\")\n",
        "\n",
        "    def display_books(self):\n",
        "        if not self.books:\n",
        "            print(\"The library is empty\")\n",
        "        else:\n",
        "            print(\"Library Books:\")\n",
        "            for book in self.books:\n",
        "                print(f\"Title: {book.title}, Author: {book.author}\")\n",
        "\n",
        "library = Library()\n",
        "\n",
        "book1 = Book(\"Harry Potter and the Sorcerer's Stone\", \"J.K. Rowling\")\n",
        "book2 = Book(\"To Kill a Mockingbird\", \"Harper Lee\")\n",
        "\n",
        "library.add_book(book1)\n",
        "library.add_book(book2)\n",
        "\n",
        "library.display_books()\n",
        "\n",
        "library.remove_book(\"To Kill a Mockingbird\")\n",
        "\n",
        "library.display_books()\n"
      ],
      "metadata": {
        "id": "HWxfJKLtNAUZ",
        "colab": {
          "base_uri": "https://localhost:8080/"
        },
        "outputId": "c05fc696-783a-4880-f093-5f29628fd313"
      },
      "execution_count": 55,
      "outputs": [
        {
          "output_type": "stream",
          "name": "stdout",
          "text": [
            "Book 'Harry Potter and the Sorcerer's Stone' by J.K. Rowling added to the library\n",
            "Book 'To Kill a Mockingbird' by Harper Lee added to the library\n",
            "Library Books:\n",
            "Title: Harry Potter and the Sorcerer's Stone, Author: J.K. Rowling\n",
            "Title: To Kill a Mockingbird, Author: Harper Lee\n",
            "Book 'To Kill a Mockingbird' removed from the library\n",
            "Library Books:\n",
            "Title: Harry Potter and the Sorcerer's Stone, Author: J.K. Rowling\n"
          ]
        }
      ]
    },
    {
      "cell_type": "markdown",
      "source": [
        "10. (13б). Створіть клас Person з атрибутами name та age. Створіть ще один клас Employee з такими атрибутами, як department та salary. Створіть клас Manager, який успадковує обидва класи Person та Employee. Продемонструйте використання множинної спадковості, створивши обʼєкт класу Manager та отримавши mro для цього класу."
      ],
      "metadata": {
        "id": "lmV8pAwwNIqu"
      }
    },
    {
      "cell_type": "code",
      "source": [
        "class Person:\n",
        "  def __init__(self, name, age):\n",
        "    self.name = name\n",
        "    self.age = age\n",
        "\n",
        "class Employee:\n",
        "  def __init__(self, department, salary):\n",
        "    self.department = department\n",
        "    self.salary = salary\n",
        "\n",
        "class Manager(Person, Employee):\n",
        "    def __init__(self, name, age, department, salary):\n",
        "        Person.__init__(self, name, age)\n",
        "        Employee.__init__(self, department, salary)\n",
        "\n",
        "manager = Manager(\"Mykola\", 36, \"IT\", 50000)\n",
        "\n",
        "print(Manager.__mro__)\n",
        "print(Manager.mro())"
      ],
      "metadata": {
        "id": "R49grKlWNPeN",
        "colab": {
          "base_uri": "https://localhost:8080/"
        },
        "outputId": "e829eb55-5baa-4194-b227-6cad3145a015"
      },
      "execution_count": 13,
      "outputs": [
        {
          "output_type": "stream",
          "name": "stdout",
          "text": [
            "(<class '__main__.Manager'>, <class '__main__.Person'>, <class '__main__.Employee'>, <class 'object'>)\n",
            "[<class '__main__.Manager'>, <class '__main__.Person'>, <class '__main__.Employee'>, <class 'object'>]\n"
          ]
        }
      ]
    },
    {
      "cell_type": "markdown",
      "source": [
        "# II. Iterator"
      ],
      "metadata": {
        "id": "dIJyUiNBFG8G"
      }
    },
    {
      "cell_type": "markdown",
      "source": [
        "11. (4б). Визначте рядок(str) з 4ма різними за значенням символами. Створіть ітератор на основі цього рядка. Викличте 5 разів функцію next на ітераторі, 4ри перших з них огорніть у ф-цію print()."
      ],
      "metadata": {
        "id": "13vsm0NyKIzL"
      }
    },
    {
      "cell_type": "code",
      "source": [
        "string = \"o*%_\"\n",
        "string_iterator = iter(string)\n",
        "\n",
        "print(next(string_iterator))\n",
        "print(next(string_iterator))\n",
        "print(next(string_iterator))\n",
        "print(next(string_iterator))\n",
        "next(string_iterator)"
      ],
      "metadata": {
        "id": "81ntabAkKuz-",
        "colab": {
          "base_uri": "https://localhost:8080/",
          "height": 245
        },
        "outputId": "f135e835-dc4d-478e-e87c-69c7b2a8049b"
      },
      "execution_count": 16,
      "outputs": [
        {
          "output_type": "stream",
          "name": "stdout",
          "text": [
            "o\n",
            "*\n",
            "%\n",
            "_\n"
          ]
        },
        {
          "output_type": "error",
          "ename": "StopIteration",
          "evalue": "",
          "traceback": [
            "\u001b[0;31m---------------------------------------------------------------------------\u001b[0m",
            "\u001b[0;31mStopIteration\u001b[0m                             Traceback (most recent call last)",
            "\u001b[0;32m<ipython-input-16-9bba8acf70a8>\u001b[0m in \u001b[0;36m<cell line: 8>\u001b[0;34m()\u001b[0m\n\u001b[1;32m      6\u001b[0m \u001b[0mprint\u001b[0m\u001b[0;34m(\u001b[0m\u001b[0mnext\u001b[0m\u001b[0;34m(\u001b[0m\u001b[0mstring_iterator\u001b[0m\u001b[0;34m)\u001b[0m\u001b[0;34m)\u001b[0m\u001b[0;34m\u001b[0m\u001b[0;34m\u001b[0m\u001b[0m\n\u001b[1;32m      7\u001b[0m \u001b[0mprint\u001b[0m\u001b[0;34m(\u001b[0m\u001b[0mnext\u001b[0m\u001b[0;34m(\u001b[0m\u001b[0mstring_iterator\u001b[0m\u001b[0;34m)\u001b[0m\u001b[0;34m)\u001b[0m\u001b[0;34m\u001b[0m\u001b[0;34m\u001b[0m\u001b[0m\n\u001b[0;32m----> 8\u001b[0;31m \u001b[0mnext\u001b[0m\u001b[0;34m(\u001b[0m\u001b[0mstring_iterator\u001b[0m\u001b[0;34m)\u001b[0m\u001b[0;34m\u001b[0m\u001b[0;34m\u001b[0m\u001b[0m\n\u001b[0m",
            "\u001b[0;31mStopIteration\u001b[0m: "
          ]
        }
      ]
    },
    {
      "cell_type": "markdown",
      "source": [
        "А що якщо викликати цю ж функцію на рядку?"
      ],
      "metadata": {
        "id": "aekWHGXOLRsO"
      }
    },
    {
      "cell_type": "code",
      "source": [
        "print(next(string))"
      ],
      "metadata": {
        "id": "mxATGsErLV1i",
        "colab": {
          "base_uri": "https://localhost:8080/",
          "height": 141
        },
        "outputId": "539091b0-7aa8-43c2-eb1a-f70220c75cd2"
      },
      "execution_count": 17,
      "outputs": [
        {
          "output_type": "error",
          "ename": "TypeError",
          "evalue": "'str' object is not an iterator",
          "traceback": [
            "\u001b[0;31m---------------------------------------------------------------------------\u001b[0m",
            "\u001b[0;31mTypeError\u001b[0m                                 Traceback (most recent call last)",
            "\u001b[0;32m<ipython-input-17-394b4c203a03>\u001b[0m in \u001b[0;36m<cell line: 1>\u001b[0;34m()\u001b[0m\n\u001b[0;32m----> 1\u001b[0;31m \u001b[0mprint\u001b[0m\u001b[0;34m(\u001b[0m\u001b[0mnext\u001b[0m\u001b[0;34m(\u001b[0m\u001b[0mstring\u001b[0m\u001b[0;34m)\u001b[0m\u001b[0;34m)\u001b[0m \u001b[0;31m# string is an object, not an iterator\u001b[0m\u001b[0;34m\u001b[0m\u001b[0;34m\u001b[0m\u001b[0m\n\u001b[0m",
            "\u001b[0;31mTypeError\u001b[0m: 'str' object is not an iterator"
          ]
        }
      ]
    },
    {
      "cell_type": "markdown",
      "source": [
        " 12. (5б). Опишіть своїми словами в одному реченні, як ви розумієте різницю між ітерабельними обʼєктами та ітераторами (можна на прикладі)."
      ],
      "metadata": {
        "id": "XwtMEopwJ4pH"
      }
    },
    {
      "cell_type": "markdown",
      "source": [
        "Ітерабельні об'єкти можна перебирати за допомогою циклу, наприклад, використовуючи конструкцію for smth in iterable_obj, тоді як ітератор є об'єктом, який зберігає поточний стан та вказує на конкретний елемент ітерабельного об'єкту. Використовуючи функції, такі як next(), можна керувати переміщенням ітератора по послідовності."
      ],
      "metadata": {
        "id": "-sHrODc3KFn8"
      }
    },
    {
      "cell_type": "markdown",
      "source": [
        "13. (11б). Створіть клас, що має визначений Iterator Protocol та при кожному виклику next повертає літери англійської абетки, поки вони не вичерпаються."
      ],
      "metadata": {
        "id": "E9qJWmNbK8Gl"
      }
    },
    {
      "cell_type": "code",
      "source": [
        "class AlpahbetIterator:\n",
        "\n",
        "    def __init__(self, alphabet = \"abcdefghijklmnopqrstuvwxyz\"):\n",
        "        self.alphabet = alphabet\n",
        "        self.current = -1\n",
        "\n",
        "    def __iter__(self):\n",
        "        return self\n",
        "\n",
        "    def __next__(self):\n",
        "        if self.current < (len(self.alphabet) - 1):\n",
        "            self.current += 1\n",
        "            return self.alphabet[self.current]\n",
        "        else:\n",
        "            raise StopIteration\n",
        "\n",
        "alphabet_iterator = AlpahbetIterator()\n",
        "\n",
        "for i in alphabet_iterator:\n",
        "    print(i)"
      ],
      "metadata": {
        "id": "cqx-g_RsLo6I",
        "colab": {
          "base_uri": "https://localhost:8080/"
        },
        "outputId": "eb40d390-bd2b-457f-9ef6-d13c3de91ac5"
      },
      "execution_count": 22,
      "outputs": [
        {
          "output_type": "stream",
          "name": "stdout",
          "text": [
            "a\n",
            "b\n",
            "c\n",
            "d\n",
            "e\n",
            "f\n",
            "g\n",
            "h\n",
            "i\n",
            "j\n",
            "k\n",
            "l\n",
            "m\n",
            "n\n",
            "o\n",
            "p\n",
            "q\n",
            "r\n",
            "s\n",
            "t\n",
            "u\n",
            "v\n",
            "w\n",
            "x\n",
            "y\n",
            "z\n"
          ]
        }
      ]
    },
    {
      "cell_type": "markdown",
      "source": [
        "# Вітаю! Ви велика(ий) молодець, що впоралась(вся). Похваліть себе та побалуйте чимось приємним. Я Вами пишаюся."
      ],
      "metadata": {
        "id": "Z3E3S_s1Fv7-"
      }
    }
  ]
}